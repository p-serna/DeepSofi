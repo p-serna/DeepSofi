{
 "cells": [
  {
   "cell_type": "markdown",
   "metadata": {},
   "source": [
    "## How many fits would we get by chance?"
   ]
  },
  {
   "cell_type": "code",
   "execution_count": 24,
   "metadata": {},
   "outputs": [
    {
     "name": "stdout",
     "output_type": "stream",
     "text": [
      "[-0.005381416770221429, 0.20505432380272207, 0.0051953826053635485, 0.33669927494379803, 0.15169135363854452]\n"
     ]
    },
    {
     "data": {
      "image/png": "[encoded data removed]",
      "text/plain": [
       "<Figure size 432x288 with 1 Axes>"
      ]
     },
     "metadata": {},
     "output_type": "display_data"
    }
   ],
   "source": [
    "from numpy import *\n",
    "from matplotlib.pylab import *\n",
    "from scipy.stats import linregress\n",
    "V = arange(-120,80,20)\n",
    "\n",
    "FV = randn(10,10)\n",
    "Fb = randn(10,3)\n",
    "FVm = mean(FV,axis=-1)\n",
    "Fbm = mean(Fb,axis=-1)\n",
    "y = FVm-Fbm\n",
    "x = V+60\n",
    "plot(V,y)\n",
    "\n",
    "\n",
    "coeffs, cv = polyfit(x, y, 1, cov = True)\n",
    "\n",
    "dx1 = sqrt(cv[0][0])\n",
    "dx2 = sqrt(cv[1][1])\n",
    "results = coeffs.tolist()\n",
    "results.extend([dx1,dx2])\n",
    "p = poly1d(coeffs)\n",
    "# fit values, and mean\n",
    "yhat = p(x)                         # or [p(z) for z in x]\n",
    "ybar = sum(y)/len(y)          # or sum(y)/len(y)\n",
    "ssreg = sum((yhat-ybar)**2)   # or sum([ (yihat - ybar)**2 for yihat in yhat])\n",
    "sstot = sum((y - ybar)**2)    # or sum([ (yi - ybar)**2 for yi in y])\n",
    "results.append(ssreg / sstot)\n",
    "\n",
    "print(results)\n"
   ]
  },
  {
   "cell_type": "code",
   "execution_count": 60,
   "metadata": {},
   "outputs": [],
   "source": [
    "x = V+60\n",
    "data = []\n",
    "for i in range(10000):\n",
    "    FV = randn(10,10)\n",
    "    Fb = randn(10,3)\n",
    "    FVm = mean(FV,axis=-1)\n",
    "    Fbm = mean(Fb,axis=-1)\n",
    "    #plot(V,FVm-Fbm)\n",
    "    y = FVm-Fbm\n",
    "    coeffs, cv = polyfit(x, y, 1, cov = True)\n",
    "\n",
    "    dx1 = sqrt(cv[0][0])\n",
    "    dx2 = sqrt(cv[1][1])\n",
    "    results = coeffs.tolist()\n",
    "    results.extend([dx1,dx2])\n",
    "    p = poly1d(coeffs)\n",
    "    # fit values, and mean\n",
    "    yhat = p(x)                         # or [p(z) for z in x]\n",
    "    ybar = mean(y)          # or sum(y)/len(y)\n",
    "    ssres = sum((yhat-y)**2)   # or sum([ (yihat - ybar)**2 for yihat in yhat])\n",
    "    sstot = sum((y - ybar)**2)    # or sum([ (yi - ybar)**2 for yi in y])\n",
    "    results.append(1.0-ssres / sstot)\n",
    "    data.append(results)"
   ]
  },
  {
   "cell_type": "code",
   "execution_count": 61,
   "metadata": {},
   "outputs": [],
   "source": [
    "data = array(data)"
   ]
  },
  {
   "cell_type": "code",
   "execution_count": 62,
   "metadata": {},
   "outputs": [
    {
     "data": {
      "text/plain": [
       "0.0228"
      ]
     },
     "execution_count": 62,
     "metadata": {},
     "output_type": "execute_result"
    }
   ],
   "source": [
    "sum(data[:,-1]>0.5)/1e4\n"
   ]
  },
  {
   "cell_type": "code",
   "execution_count": 63,
   "metadata": {},
   "outputs": [],
   "source": [
    "datath = data[data[:,-1]>0.5,:]"
   ]
  },
  {
   "cell_type": "code",
   "execution_count": 65,
   "metadata": {},
   "outputs": [
    {
     "name": "stdout",
     "output_type": "stream",
     "text": [
      "Percentage zero is excluded ~66%= 0.6535087719298246\n",
      "Percentage zero is excluded ~95%= 0.3201754385964912\n"
     ]
    }
   ],
   "source": [
    "print(\"Percentage zero is excluded ~66%=\",sum((datath[:,1]-datath[:,3])*(datath[:,1]+datath[:,3])>0)/datath.shape[0])\n",
    "print(\"Percentage zero is excluded ~95%=\",sum((datath[:,1]-2*datath[:,3])*(datath[:,1]+2*datath[:,3])>0)/datath.shape[0])"
   ]
  },
  {
   "cell_type": "code",
   "execution_count": null,
   "metadata": {},
   "outputs": [],
   "source": []
  }
 ],
 "metadata": {
  "kernelspec": {
   "display_name": "deepl",
   "language": "python",
   "name": "deepl"
  },
  "language_info": {
   "codemirror_mode": {
    "name": "ipython",
    "version": 3
   },
   "file_extension": ".py",
   "mimetype": "text/x-python",
   "name": "python",
   "nbconvert_exporter": "python",
   "pygments_lexer": "ipython3",
   "version": "3.6.5"
  }
 },
 "nbformat": 4,
 "nbformat_minor": 2
}
